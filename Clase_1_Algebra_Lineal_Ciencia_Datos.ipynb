{
 "cells": [
  {
   "cell_type": "markdown",
   "id": "2ccc2dc2",
   "metadata": {},
   "source": [
    "# Clase 1: Vectores, Matrices y Operaciones Básicas\n",
    "**Objetivo:** Comprender cómo los datos y las imágenes se representan mediante vectores y matrices, y realizar operaciones algebraicas básicas en Python."
   ]
  },
  {
   "cell_type": "markdown",
   "id": "5206d0a3",
   "metadata": {},
   "source": [
    "## 🧠 Conceptos clave\n",
    "### Vectores\n",
    "Un vector es una secuencia ordenada de números. Ejemplo:\n",
    "$$\n",
    "\\mathbf{v} = \\begin{bmatrix} 2 \\\\ -1 \\\\ 3 \\end{bmatrix}\n",
    "$$\n",
    "### Matrices\n",
    "Una matriz es una colección bidimensional de números. Ejemplo:\n",
    "$$\n",
    "\\mathbf{M} = \\begin{bmatrix} 1 & 0 \\\\ 2 & 3 \\\\ -1 & 5 \\end{bmatrix}\n",
    "$$\n",
    "### Operaciones básicas\n",
    "- Suma de vectores/matrices\n",
    "- Multiplicación escalar\n",
    "- Producto punto\n",
    "- Multiplicación de matrices"
   ]
  },
  {
   "cell_type": "code",
   "execution_count": null,
   "id": "744cf175",
   "metadata": {},
   "outputs": [],
   "source": [
    "import numpy as np\n",
    "\n",
    "# Vectores\n",
    "a = np.array([2, -1, 3])\n",
    "b = np.array([1, 4, 0])\n",
    "\n",
    "print(\"Suma:\", a + b)\n",
    "print(\"Producto punto:\", np.dot(a, b))"
   ]
  },
  {
   "cell_type": "code",
   "execution_count": null,
   "id": "b50d08ce",
   "metadata": {},
   "outputs": [],
   "source": [
    "import matplotlib.pyplot as plt\n",
    "\n",
    "# Matriz de imagen 5x5\n",
    "img = np.array([\n",
    "    [0, 0, 255, 0, 0],\n",
    "    [0, 255, 255, 255, 0],\n",
    "    [255, 255, 255, 255, 255],\n",
    "    [0, 255, 255, 255, 0],\n",
    "    [0, 0, 255, 0, 0],\n",
    "], dtype=np.uint8)\n",
    "\n",
    "plt.imshow(img, cmap='gray')\n",
    "plt.title(\"Imagen como matriz\")\n",
    "plt.show()"
   ]
  },
  {
   "cell_type": "markdown",
   "id": "7bbdab0b",
   "metadata": {},
   "source": [
    "## 🎯 Actividad práctica\n",
    "Crea una imagen binaria 10x10 con una cruz al centro, luego rota la imagen 90° y visualiza el resultado."
   ]
  },
  {
   "cell_type": "markdown",
   "id": "4a006c4e",
   "metadata": {},
   "source": [
    "## 📌 Tarea\n",
    "1. Leer el Capítulo 1 del libro *Mathematics for Machine Learning* (Deisenroth).\n",
    "2. Implementar una función que reciba dos matrices y devuelva su producto si es válido.\n",
    "3. Subir el código en un notebook a un repositorio GitHub."
   ]
  }
 ],
 "metadata": {},
 "nbformat": 4,
 "nbformat_minor": 5
}